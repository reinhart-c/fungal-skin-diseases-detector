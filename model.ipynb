{
  "nbformat": 4,
  "nbformat_minor": 0,
  "metadata": {
    "colab": {
      "provenance": []
    },
    "kernelspec": {
      "name": "python3",
      "display_name": "Python 3"
    },
    "language_info": {
      "name": "python"
    },
    "accelerator": "GPU"
  },
  "cells": [
    {
      "cell_type": "code",
      "metadata": {
        "id": "uYlmQRMpZCxg"
      },
      "source": [
        "import numpy as np\n",
        "import tensorflow as tf\n",
        "from tensorflow import keras\n",
        "from tensorflow.keras import models\n",
        "from tensorflow.keras import layers\n",
        "import cv2\n",
        "from tensorflow.keras.optimizers import Adam"
      ],
      "execution_count": null,
      "outputs": []
    },
    {
      "cell_type": "code",
      "metadata": {
        "id": "BBIG7IGQZGm4",
        "colab": {
          "base_uri": "https://localhost:8080/"
        },
        "outputId": "1d3a925a-c341-47f8-a01e-0bee586283dd"
      },
      "source": [
        "from google.colab import drive\n",
        "drive.mount('/content/drive')"
      ],
      "execution_count": null,
      "outputs": [
        {
          "output_type": "stream",
          "name": "stdout",
          "text": [
            "Mounted at /content/drive\n"
          ]
        }
      ]
    },
    {
      "cell_type": "code",
      "metadata": {
        "id": "mQFoDDN49My0"
      },
      "source": [
        "path = '/content/drive/MyDrive/Dataset_New.zip'\n",
        "import zipfile\n",
        "!unzip /content/drive/MyDrive/Dataset_New.zip"
      ],
      "execution_count": null,
      "outputs": []
    },
    {
      "cell_type": "code",
      "metadata": {
        "id": "6gxr0lWZZLmf"
      },
      "source": [
        "import keras_preprocessing\n",
        "from keras_preprocessing import image\n",
        "from keras_preprocessing.image import ImageDataGenerator"
      ],
      "execution_count": null,
      "outputs": []
    },
    {
      "cell_type": "code",
      "metadata": {
        "colab": {
          "base_uri": "https://localhost:8080/"
        },
        "id": "0iuFIlY2ZMOR",
        "outputId": "ade6b60c-0ed6-47ca-bce6-c4794e963d27"
      },
      "source": [
        "import os\n",
        "f_candidiasis_oral = os.path.join('/content/Dataset_New/Candidiasis_Oral')\n",
        "f_candidiasis_vital = os.path.join('/content/Dataset_New/Candidiasis_Vital')\n",
        "f_jock = os.path.join('/content/Dataset_New/Jock_Itch')\n",
        "f_ringworm = os.path.join('/content/Dataset_New/Ringworm')\n",
        "f_scabies = os.path.join('/content/Dataset_New/Scabies')\n",
        "f_tinea_pedis = os.path.join('/content/Dataset_New/Tinea_Pedis')\n",
        "f_tinea_versicolor = os.path.join('/content/Dataset_New/Tinea_Versicolor')\n",
        "\n",
        "print('Jumlah gambar Candidiasis Oral :', len(os.listdir(f_candidiasis_oral)))\n",
        "print('Jumlah gambar Candidiasis Vital:', len(os.listdir(f_candidiasis_vital)))\n",
        "print('Jumlah gambar Jock Itch :', len(os.listdir(f_jock)))\n",
        "print('Jumlah gambar Ringworm :', len(os.listdir(f_ringworm)))\n",
        "print('Jumlah gambar Scabies :', len(os.listdir(f_scabies)))\n",
        "print('Jumlah gambar Tinea Pedis :', len(os.listdir(f_tinea_pedis)))\n",
        "print('Jumlah gambar Tinea Versicolor :', len(os.listdir(f_tinea_versicolor)))\n",
        "\n",
        "file_Candidiasis = os.listdir(f_candidiasis_oral)\n",
        "print(\"Candidiasis Oral :\",file_Candidiasis[:5])\n",
        "\n",
        "file_Candidiasis = os.listdir(f_candidiasis_vital)\n",
        "print(\"Candidiasis Vital :\",file_Candidiasis[:5])\n",
        "\n",
        "file_Jock = os.listdir(f_jock)\n",
        "print(\"Jock Itch :\",file_Jock[:5])\n",
        "\n",
        "file_Ringworm = os.listdir(f_ringworm)\n",
        "print(\"Ringworm :\",file_Ringworm[:5])\n",
        "\n",
        "file_Scabies = os.listdir(f_scabies)\n",
        "print(\"Scabies :\",file_Scabies[:5])\n",
        "\n",
        "file_Tinea_Pedis = os.listdir(f_tinea_pedis)\n",
        "print(\"Tinea Pedis :\",file_Tinea_Pedis[:5])\n",
        "\n",
        "file_Tinea_Versicolor = os.listdir(f_tinea_versicolor)\n",
        "print(\"Tinea Versicolor :\",file_Tinea_Versicolor[:5])"
      ],
      "execution_count": null,
      "outputs": [
        {
          "output_type": "stream",
          "name": "stdout",
          "text": [
            "Jumlah gambar Candidiasis Oral : 20\n",
            "Jumlah gambar Candidiasis Vital: 20\n",
            "Jumlah gambar Jock Itch : 20\n",
            "Jumlah gambar Ringworm : 20\n",
            "Jumlah gambar Scabies : 20\n",
            "Jumlah gambar Tinea Pedis : 20\n",
            "Jumlah gambar Tinea Versicolor : 20\n",
            "Candidiasis Oral : ['KK_11.jpg', 'KK_40.jpg', 'KK_4.jpg', 'KK_44.jpg', 'KK_5.jpg']\n",
            "Candidiasis Vital : ['K_2.jpg', 'K_8.jpg', 'K_10.jpg', 't-candidiasis-diaper-29.jpg', 'K_1.jpg']\n",
            "Jock Itch : ['JI_35.jpg', 'Jl_52.jpg', 'JI_21.jpg', 'Jl_45.jpg', 'Jl_57.jpg']\n",
            "Ringworm : ['Kurap_37.jpg', 'Kurap_12.jpg', 'Kurap_44.jpg', 'Kurap_1.jpg', 'Kurap_51.jpg']\n",
            "Scabies : ['Skabies_44.jpg', 'Skabies_11.jpg', 'Skabies_1.jpg', 'Skabies_71.jpg', 'Skabies_22.jpg']\n",
            "Tinea Pedis : ['TP_15.jpg', 'TP_10.jpg', 'TP_75.jpg', 'TP_8.jpg', 'TP_45.jpg']\n",
            "Tinea Versicolor : ['Panu_62.jpg', 'Panu_8.jpg', 'Panu_47.jpg', 'Panu_2.jpg', 'Panu_63.jpg']\n"
          ]
        }
      ]
    },
    {
      "cell_type": "code",
      "metadata": {
        "id": "Td5fAFGJZTi4"
      },
      "source": [
        "base_dir = '/content/Dataset_New/'\n",
        "training_datagen = ImageDataGenerator(\n",
        "    rescale = 1./255,\n",
        "    rotation_range=20,\n",
        "    zoom_range=0.2,\n",
        "    shear_range=0.2,\n",
        "    horizontal_flip=True,\n",
        "    fill_mode='nearest',\n",
        "    validation_split=0.2\n",
        ")"
      ],
      "execution_count": null,
      "outputs": []
    },
    {
      "cell_type": "code",
      "metadata": {
        "colab": {
          "base_uri": "https://localhost:8080/"
        },
        "id": "Xgavjnx5ZUfP",
        "outputId": "22d21cfc-87fd-49c6-8d37-4cc08c701482"
      },
      "source": [
        "train_generator = training_datagen.flow_from_directory(\n",
        "    base_dir,\n",
        "    target_size=(180, 180),\n",
        "    class_mode='categorical',\n",
        "    batch_size=8,\n",
        "    subset='training'\n",
        ")\n",
        "\n",
        "validation_generator = training_datagen.flow_from_directory(\n",
        "    base_dir,\n",
        "    target_size=(180, 180),\n",
        "    class_mode='categorical',\n",
        "    batch_size=8,\n",
        "    subset='validation'\n",
        ")"
      ],
      "execution_count": null,
      "outputs": [
        {
          "output_type": "stream",
          "name": "stdout",
          "text": [
            "Found 112 images belonging to 7 classes.\n",
            "Found 28 images belonging to 7 classes.\n"
          ]
        }
      ]
    },
    {
      "cell_type": "code",
      "metadata": {
        "colab": {
          "base_uri": "https://localhost:8080/"
        },
        "id": "2u3V3Jd_ZWwo",
        "outputId": "4cfe1d38-e17b-4358-8e56-02642243dae5"
      },
      "source": [
        "for image_batch, label_batch in train_generator:\n",
        "  print(image_batch.shape)\n",
        "  print(label_batch.shape)\n",
        "  break"
      ],
      "execution_count": null,
      "outputs": [
        {
          "output_type": "stream",
          "name": "stdout",
          "text": [
            "(8, 180, 180, 3)\n",
            "(8, 7)\n"
          ]
        }
      ]
    },
    {
      "cell_type": "code",
      "metadata": {
        "id": "U5KwGYl6ZaxQ"
      },
      "source": [
        "from tensorflow.keras import layers\n",
        "from tensorflow.keras import models"
      ],
      "execution_count": null,
      "outputs": []
    },
    {
      "cell_type": "code",
      "metadata": {
        "id": "qnvbTClEZbjX"
      },
      "source": [
        "model = models.Sequential([\n",
        "        layers.Conv2D(32, (5,5), activation='relu', padding='same', input_shape = (180, 180, 3)),\n",
        "        layers.MaxPooling2D(pool_size=(2,2), padding='same'),\n",
        "        layers.Conv2D(64, (5,5), padding='same', activation='relu'),\n",
        "        layers.MaxPooling2D(pool_size=(2,2), padding='same'),\n",
        "        layers.Conv2D(128, (5,5), padding='same', activation='relu'),\n",
        "        layers.MaxPooling2D(pool_size=(2,2), padding='same'),\n",
        "        layers.Flatten(),\n",
        "        layers.Dropout(0.5),\n",
        "        layers.Dense(128, activation='relu'),\n",
        "        layers.Dense(512, activation='relu'),\n",
        "        layers.Dense(7, activation='softmax')\n",
        "])"
      ],
      "execution_count": null,
      "outputs": []
    },
    {
      "cell_type": "code",
      "metadata": {
        "colab": {
          "base_uri": "https://localhost:8080/"
        },
        "id": "f8TQOBHzZgf_",
        "outputId": "4c407ed0-a278-45b7-ec77-1137e9c2c826"
      },
      "source": [
        "model.summary()"
      ],
      "execution_count": null,
      "outputs": [
        {
          "output_type": "stream",
          "name": "stdout",
          "text": [
            "Model: \"sequential_1\"\n",
            "_________________________________________________________________\n",
            "Layer (type)                 Output Shape              Param #   \n",
            "=================================================================\n",
            "conv2d_3 (Conv2D)            (None, 180, 180, 32)      2432      \n",
            "_________________________________________________________________\n",
            "max_pooling2d_3 (MaxPooling2 (None, 90, 90, 32)        0         \n",
            "_________________________________________________________________\n",
            "conv2d_4 (Conv2D)            (None, 90, 90, 64)        51264     \n",
            "_________________________________________________________________\n",
            "max_pooling2d_4 (MaxPooling2 (None, 45, 45, 64)        0         \n",
            "_________________________________________________________________\n",
            "conv2d_5 (Conv2D)            (None, 45, 45, 128)       204928    \n",
            "_________________________________________________________________\n",
            "max_pooling2d_5 (MaxPooling2 (None, 23, 23, 128)       0         \n",
            "_________________________________________________________________\n",
            "flatten_1 (Flatten)          (None, 67712)             0         \n",
            "_________________________________________________________________\n",
            "dropout_1 (Dropout)          (None, 67712)             0         \n",
            "_________________________________________________________________\n",
            "dense_3 (Dense)              (None, 128)               8667264   \n",
            "_________________________________________________________________\n",
            "dense_4 (Dense)              (None, 512)               66048     \n",
            "_________________________________________________________________\n",
            "dense_5 (Dense)              (None, 7)                 3591      \n",
            "=================================================================\n",
            "Total params: 8,995,527\n",
            "Trainable params: 8,995,527\n",
            "Non-trainable params: 0\n",
            "_________________________________________________________________\n"
          ]
        }
      ]
    },
    {
      "cell_type": "code",
      "metadata": {
        "id": "i0H6NzjRZil3"
      },
      "source": [
        "model.compile(optimizer='adam',\n",
        "              loss='categorical_crossentropy',\n",
        "              metrics=['accuracy'])"
      ],
      "execution_count": null,
      "outputs": []
    },
    {
      "cell_type": "code",
      "metadata": {
        "id": "-i__7tXJ02kD"
      },
      "source": [
        "class myCallback(tf.keras.callbacks.Callback):\n",
        "  def on_epochs_end(self, epochs, logs={}):\n",
        "    if(logs.get('val_accuracy')>0.9):\n",
        "      print(\"\\The Training is Stop, Model Accuracy is > 90%\")\n",
        "      self.model.stop_training = True,\n",
        "      monitor='val_loss',\n",
        "      mode='auto',\n",
        "      verbose=0\n",
        "\n",
        "callbacks = myCallback()"
      ],
      "execution_count": null,
      "outputs": []
    },
    {
      "cell_type": "code",
      "metadata": {
        "colab": {
          "base_uri": "https://localhost:8080/"
        },
        "id": "RGflUz4JZkqH",
        "outputId": "6baf52ba-f4f0-4215-b96d-b1549b651352"
      },
      "source": [
        "history = model.fit(\n",
        "    train_generator,\n",
        "    validation_data = validation_generator,\n",
        "    epochs = 200,\n",
        "    callbacks=myCallback()\n",
        ")"
      ],
      "execution_count": null,
      "outputs": [
        {
          "output_type": "stream",
          "name": "stdout",
          "text": [
            "Epoch 1/200\n",
            "14/14 [==============================] - 3s 166ms/step - loss: 2.1471 - accuracy: 0.1250 - val_loss: 1.9455 - val_accuracy: 0.1786\n",
            "Epoch 2/200\n",
            "14/14 [==============================] - 2s 145ms/step - loss: 1.9482 - accuracy: 0.1250 - val_loss: 1.9445 - val_accuracy: 0.1429\n",
            "Epoch 3/200\n",
            "14/14 [==============================] - 2s 146ms/step - loss: 1.9443 - accuracy: 0.1161 - val_loss: 1.9327 - val_accuracy: 0.1429\n",
            "Epoch 4/200\n",
            "14/14 [==============================] - 2s 145ms/step - loss: 1.9205 - accuracy: 0.1429 - val_loss: 1.9006 - val_accuracy: 0.1786\n",
            "Epoch 5/200\n",
            "14/14 [==============================] - 2s 146ms/step - loss: 1.9070 - accuracy: 0.2679 - val_loss: 1.9503 - val_accuracy: 0.1429\n",
            "Epoch 6/200\n",
            "14/14 [==============================] - 2s 145ms/step - loss: 1.8983 - accuracy: 0.1875 - val_loss: 2.0864 - val_accuracy: 0.1071\n",
            "Epoch 7/200\n",
            "14/14 [==============================] - 2s 144ms/step - loss: 1.8487 - accuracy: 0.2500 - val_loss: 1.9022 - val_accuracy: 0.1786\n",
            "Epoch 8/200\n",
            "14/14 [==============================] - 2s 148ms/step - loss: 1.7015 - accuracy: 0.3393 - val_loss: 2.3066 - val_accuracy: 0.1786\n",
            "Epoch 9/200\n",
            "14/14 [==============================] - 2s 143ms/step - loss: 1.7384 - accuracy: 0.3839 - val_loss: 1.8923 - val_accuracy: 0.2143\n",
            "Epoch 10/200\n",
            "14/14 [==============================] - 2s 145ms/step - loss: 1.5906 - accuracy: 0.4107 - val_loss: 1.9586 - val_accuracy: 0.1786\n",
            "Epoch 11/200\n",
            "14/14 [==============================] - 2s 146ms/step - loss: 1.4243 - accuracy: 0.4375 - val_loss: 2.4193 - val_accuracy: 0.1071\n",
            "Epoch 12/200\n",
            "14/14 [==============================] - 2s 144ms/step - loss: 1.4027 - accuracy: 0.5446 - val_loss: 2.1502 - val_accuracy: 0.3214\n",
            "Epoch 13/200\n",
            "14/14 [==============================] - 2s 146ms/step - loss: 1.3392 - accuracy: 0.4554 - val_loss: 2.0884 - val_accuracy: 0.2500\n",
            "Epoch 14/200\n",
            "14/14 [==============================] - 2s 147ms/step - loss: 1.4245 - accuracy: 0.4554 - val_loss: 2.1342 - val_accuracy: 0.2143\n",
            "Epoch 15/200\n",
            "14/14 [==============================] - 2s 146ms/step - loss: 1.3338 - accuracy: 0.5357 - val_loss: 2.1708 - val_accuracy: 0.2500\n",
            "Epoch 16/200\n",
            "14/14 [==============================] - 2s 143ms/step - loss: 1.1461 - accuracy: 0.5446 - val_loss: 2.5618 - val_accuracy: 0.3929\n",
            "Epoch 17/200\n",
            "14/14 [==============================] - 2s 145ms/step - loss: 1.6058 - accuracy: 0.3929 - val_loss: 2.1505 - val_accuracy: 0.2143\n",
            "Epoch 18/200\n",
            "14/14 [==============================] - 2s 145ms/step - loss: 1.3470 - accuracy: 0.5536 - val_loss: 1.7035 - val_accuracy: 0.3929\n",
            "Epoch 19/200\n",
            "14/14 [==============================] - 2s 141ms/step - loss: 1.0055 - accuracy: 0.6250 - val_loss: 2.4178 - val_accuracy: 0.2500\n",
            "Epoch 20/200\n",
            "14/14 [==============================] - 2s 143ms/step - loss: 1.1580 - accuracy: 0.5536 - val_loss: 1.9506 - val_accuracy: 0.2857\n",
            "Epoch 21/200\n",
            "14/14 [==============================] - 2s 144ms/step - loss: 0.9127 - accuracy: 0.6607 - val_loss: 2.4786 - val_accuracy: 0.3214\n",
            "Epoch 22/200\n",
            "14/14 [==============================] - 2s 144ms/step - loss: 0.7721 - accuracy: 0.7500 - val_loss: 2.4393 - val_accuracy: 0.3571\n",
            "Epoch 23/200\n",
            "14/14 [==============================] - 2s 142ms/step - loss: 0.9601 - accuracy: 0.6786 - val_loss: 2.3085 - val_accuracy: 0.3571\n",
            "Epoch 24/200\n",
            "14/14 [==============================] - 2s 142ms/step - loss: 0.7088 - accuracy: 0.7589 - val_loss: 2.4208 - val_accuracy: 0.2143\n",
            "Epoch 25/200\n",
            "14/14 [==============================] - 2s 143ms/step - loss: 0.6959 - accuracy: 0.6964 - val_loss: 2.9391 - val_accuracy: 0.3214\n",
            "Epoch 26/200\n",
            "14/14 [==============================] - 2s 144ms/step - loss: 0.7226 - accuracy: 0.7768 - val_loss: 3.3493 - val_accuracy: 0.2857\n",
            "Epoch 27/200\n",
            "14/14 [==============================] - 2s 144ms/step - loss: 0.7455 - accuracy: 0.7411 - val_loss: 3.0093 - val_accuracy: 0.3571\n",
            "Epoch 28/200\n",
            "14/14 [==============================] - 2s 143ms/step - loss: 0.6677 - accuracy: 0.7411 - val_loss: 3.0374 - val_accuracy: 0.2500\n",
            "Epoch 29/200\n",
            "14/14 [==============================] - 2s 143ms/step - loss: 0.7072 - accuracy: 0.7589 - val_loss: 2.7543 - val_accuracy: 0.2857\n",
            "Epoch 30/200\n",
            "14/14 [==============================] - 2s 143ms/step - loss: 0.5468 - accuracy: 0.8036 - val_loss: 2.7215 - val_accuracy: 0.2857\n",
            "Epoch 31/200\n",
            "14/14 [==============================] - 2s 144ms/step - loss: 0.6162 - accuracy: 0.7321 - val_loss: 2.7714 - val_accuracy: 0.4643\n",
            "Epoch 32/200\n",
            "14/14 [==============================] - 2s 142ms/step - loss: 0.6023 - accuracy: 0.7768 - val_loss: 2.9970 - val_accuracy: 0.2857\n",
            "Epoch 33/200\n",
            "14/14 [==============================] - 2s 145ms/step - loss: 0.5274 - accuracy: 0.7679 - val_loss: 3.2195 - val_accuracy: 0.3571\n",
            "Epoch 34/200\n",
            "14/14 [==============================] - 2s 145ms/step - loss: 0.4141 - accuracy: 0.8393 - val_loss: 3.3393 - val_accuracy: 0.2857\n",
            "Epoch 35/200\n",
            "14/14 [==============================] - 2s 145ms/step - loss: 0.4431 - accuracy: 0.8571 - val_loss: 4.0382 - val_accuracy: 0.3571\n",
            "Epoch 36/200\n",
            "14/14 [==============================] - 2s 143ms/step - loss: 0.2460 - accuracy: 0.9196 - val_loss: 4.1422 - val_accuracy: 0.2143\n",
            "Epoch 37/200\n",
            "14/14 [==============================] - 2s 142ms/step - loss: 0.4154 - accuracy: 0.8304 - val_loss: 3.6733 - val_accuracy: 0.2500\n",
            "Epoch 38/200\n",
            "14/14 [==============================] - 2s 143ms/step - loss: 0.7679 - accuracy: 0.7589 - val_loss: 2.6523 - val_accuracy: 0.3929\n",
            "Epoch 39/200\n",
            "14/14 [==============================] - 2s 143ms/step - loss: 0.6557 - accuracy: 0.8125 - val_loss: 3.5707 - val_accuracy: 0.3571\n",
            "Epoch 40/200\n",
            "14/14 [==============================] - 2s 141ms/step - loss: 0.6016 - accuracy: 0.7946 - val_loss: 3.3336 - val_accuracy: 0.3214\n",
            "Epoch 41/200\n",
            "14/14 [==============================] - 2s 143ms/step - loss: 0.5323 - accuracy: 0.8304 - val_loss: 2.1543 - val_accuracy: 0.3929\n",
            "Epoch 42/200\n",
            "14/14 [==============================] - 2s 142ms/step - loss: 0.3301 - accuracy: 0.9196 - val_loss: 3.1645 - val_accuracy: 0.3571\n",
            "Epoch 43/200\n",
            "14/14 [==============================] - 2s 145ms/step - loss: 0.2269 - accuracy: 0.9286 - val_loss: 3.9556 - val_accuracy: 0.4286\n",
            "Epoch 44/200\n",
            "14/14 [==============================] - 2s 146ms/step - loss: 0.2664 - accuracy: 0.9107 - val_loss: 4.3348 - val_accuracy: 0.2500\n",
            "Epoch 45/200\n",
            "14/14 [==============================] - 2s 145ms/step - loss: 0.3884 - accuracy: 0.8571 - val_loss: 2.7797 - val_accuracy: 0.5000\n",
            "Epoch 46/200\n",
            "14/14 [==============================] - 2s 146ms/step - loss: 0.2541 - accuracy: 0.8929 - val_loss: 3.5221 - val_accuracy: 0.3571\n",
            "Epoch 47/200\n",
            "14/14 [==============================] - 2s 146ms/step - loss: 0.1906 - accuracy: 0.9107 - val_loss: 3.6102 - val_accuracy: 0.4286\n",
            "Epoch 48/200\n",
            "14/14 [==============================] - 2s 145ms/step - loss: 0.2049 - accuracy: 0.9375 - val_loss: 3.2297 - val_accuracy: 0.3571\n",
            "Epoch 49/200\n",
            "14/14 [==============================] - 2s 145ms/step - loss: 0.1738 - accuracy: 0.9643 - val_loss: 3.4283 - val_accuracy: 0.3571\n",
            "Epoch 50/200\n",
            "14/14 [==============================] - 2s 143ms/step - loss: 0.1763 - accuracy: 0.9464 - val_loss: 2.9472 - val_accuracy: 0.3571\n",
            "Epoch 51/200\n",
            "14/14 [==============================] - 2s 142ms/step - loss: 0.2054 - accuracy: 0.9375 - val_loss: 3.8779 - val_accuracy: 0.3929\n",
            "Epoch 52/200\n",
            "14/14 [==============================] - 2s 145ms/step - loss: 0.2353 - accuracy: 0.9107 - val_loss: 3.8378 - val_accuracy: 0.3214\n",
            "Epoch 53/200\n",
            "14/14 [==============================] - 2s 142ms/step - loss: 0.4200 - accuracy: 0.8482 - val_loss: 3.6541 - val_accuracy: 0.3571\n",
            "Epoch 54/200\n",
            "14/14 [==============================] - 2s 144ms/step - loss: 0.1733 - accuracy: 0.9464 - val_loss: 3.4496 - val_accuracy: 0.2500\n",
            "Epoch 55/200\n",
            "14/14 [==============================] - 2s 144ms/step - loss: 0.2844 - accuracy: 0.9196 - val_loss: 3.5579 - val_accuracy: 0.3214\n",
            "Epoch 56/200\n",
            "14/14 [==============================] - 2s 140ms/step - loss: 0.5040 - accuracy: 0.8393 - val_loss: 3.3935 - val_accuracy: 0.3929\n",
            "Epoch 57/200\n",
            "14/14 [==============================] - 2s 144ms/step - loss: 0.3267 - accuracy: 0.8929 - val_loss: 3.3548 - val_accuracy: 0.3214\n",
            "Epoch 58/200\n",
            "14/14 [==============================] - 2s 148ms/step - loss: 0.1253 - accuracy: 0.9554 - val_loss: 4.3122 - val_accuracy: 0.3929\n",
            "Epoch 59/200\n",
            "14/14 [==============================] - 2s 144ms/step - loss: 0.1517 - accuracy: 0.9554 - val_loss: 3.7713 - val_accuracy: 0.3214\n",
            "Epoch 60/200\n",
            "14/14 [==============================] - 2s 143ms/step - loss: 0.2676 - accuracy: 0.9286 - val_loss: 3.9714 - val_accuracy: 0.2500\n",
            "Epoch 61/200\n",
            "14/14 [==============================] - 2s 141ms/step - loss: 0.3123 - accuracy: 0.9107 - val_loss: 4.6686 - val_accuracy: 0.3929\n",
            "Epoch 62/200\n",
            "14/14 [==============================] - 2s 144ms/step - loss: 0.2188 - accuracy: 0.9196 - val_loss: 4.3515 - val_accuracy: 0.4286\n",
            "Epoch 63/200\n",
            "14/14 [==============================] - 2s 146ms/step - loss: 0.2446 - accuracy: 0.9018 - val_loss: 3.9425 - val_accuracy: 0.3571\n",
            "Epoch 64/200\n",
            "14/14 [==============================] - 2s 150ms/step - loss: 0.2495 - accuracy: 0.9286 - val_loss: 4.2488 - val_accuracy: 0.3214\n",
            "Epoch 65/200\n",
            "14/14 [==============================] - 2s 149ms/step - loss: 0.1334 - accuracy: 0.9643 - val_loss: 3.5196 - val_accuracy: 0.2500\n",
            "Epoch 66/200\n",
            "14/14 [==============================] - 2s 145ms/step - loss: 0.1346 - accuracy: 0.9554 - val_loss: 4.4115 - val_accuracy: 0.2857\n",
            "Epoch 67/200\n",
            "14/14 [==============================] - 2s 146ms/step - loss: 0.0816 - accuracy: 0.9732 - val_loss: 3.8846 - val_accuracy: 0.4286\n",
            "Epoch 68/200\n",
            "14/14 [==============================] - 2s 149ms/step - loss: 0.0638 - accuracy: 0.9821 - val_loss: 6.4786 - val_accuracy: 0.2500\n",
            "Epoch 69/200\n",
            "14/14 [==============================] - 2s 146ms/step - loss: 0.2112 - accuracy: 0.9196 - val_loss: 5.9470 - val_accuracy: 0.3214\n",
            "Epoch 70/200\n",
            "14/14 [==============================] - 2s 147ms/step - loss: 0.2410 - accuracy: 0.9107 - val_loss: 3.9082 - val_accuracy: 0.5000\n",
            "Epoch 71/200\n",
            "14/14 [==============================] - 2s 146ms/step - loss: 0.3705 - accuracy: 0.8750 - val_loss: 5.4391 - val_accuracy: 0.3929\n",
            "Epoch 72/200\n",
            "14/14 [==============================] - 2s 144ms/step - loss: 0.6196 - accuracy: 0.9107 - val_loss: 4.9048 - val_accuracy: 0.2143\n",
            "Epoch 73/200\n",
            "14/14 [==============================] - 2s 144ms/step - loss: 0.2490 - accuracy: 0.9286 - val_loss: 4.0232 - val_accuracy: 0.3214\n",
            "Epoch 74/200\n",
            "14/14 [==============================] - 2s 149ms/step - loss: 0.1628 - accuracy: 0.9375 - val_loss: 4.1657 - val_accuracy: 0.3214\n",
            "Epoch 75/200\n",
            "14/14 [==============================] - 2s 146ms/step - loss: 0.1496 - accuracy: 0.9464 - val_loss: 2.8895 - val_accuracy: 0.4643\n",
            "Epoch 76/200\n",
            "14/14 [==============================] - 2s 144ms/step - loss: 0.1611 - accuracy: 0.9286 - val_loss: 5.1039 - val_accuracy: 0.3571\n",
            "Epoch 77/200\n",
            "14/14 [==============================] - 2s 147ms/step - loss: 0.4332 - accuracy: 0.8304 - val_loss: 3.1303 - val_accuracy: 0.4643\n",
            "Epoch 78/200\n",
            "14/14 [==============================] - 2s 146ms/step - loss: 0.3000 - accuracy: 0.9018 - val_loss: 3.2779 - val_accuracy: 0.3214\n",
            "Epoch 79/200\n",
            "14/14 [==============================] - 2s 150ms/step - loss: 0.4076 - accuracy: 0.8482 - val_loss: 3.0979 - val_accuracy: 0.3929\n",
            "Epoch 80/200\n",
            "14/14 [==============================] - 2s 145ms/step - loss: 0.2460 - accuracy: 0.9107 - val_loss: 4.5035 - val_accuracy: 0.3214\n",
            "Epoch 81/200\n",
            "14/14 [==============================] - 2s 145ms/step - loss: 0.1612 - accuracy: 0.9375 - val_loss: 3.5578 - val_accuracy: 0.3214\n",
            "Epoch 82/200\n",
            "14/14 [==============================] - 2s 145ms/step - loss: 0.0890 - accuracy: 0.9643 - val_loss: 3.5266 - val_accuracy: 0.3214\n",
            "Epoch 83/200\n",
            "14/14 [==============================] - 2s 146ms/step - loss: 0.1046 - accuracy: 0.9732 - val_loss: 3.8197 - val_accuracy: 0.3929\n",
            "Epoch 84/200\n",
            "14/14 [==============================] - 2s 146ms/step - loss: 0.1625 - accuracy: 0.9732 - val_loss: 4.2461 - val_accuracy: 0.4643\n",
            "Epoch 85/200\n",
            "14/14 [==============================] - 2s 144ms/step - loss: 0.1789 - accuracy: 0.9375 - val_loss: 4.7289 - val_accuracy: 0.2857\n",
            "Epoch 86/200\n",
            "14/14 [==============================] - 2s 147ms/step - loss: 0.2063 - accuracy: 0.9464 - val_loss: 4.9513 - val_accuracy: 0.3214\n",
            "Epoch 87/200\n",
            "14/14 [==============================] - 2s 146ms/step - loss: 0.1659 - accuracy: 0.9375 - val_loss: 5.3903 - val_accuracy: 0.3571\n",
            "Epoch 88/200\n",
            "14/14 [==============================] - 2s 146ms/step - loss: 0.1899 - accuracy: 0.9196 - val_loss: 4.7768 - val_accuracy: 0.3571\n",
            "Epoch 89/200\n",
            "14/14 [==============================] - 2s 147ms/step - loss: 0.2393 - accuracy: 0.9286 - val_loss: 3.8080 - val_accuracy: 0.2857\n",
            "Epoch 90/200\n",
            "14/14 [==============================] - 2s 145ms/step - loss: 0.3856 - accuracy: 0.9286 - val_loss: 4.1805 - val_accuracy: 0.2143\n",
            "Epoch 91/200\n",
            "14/14 [==============================] - 2s 147ms/step - loss: 0.1224 - accuracy: 0.9554 - val_loss: 4.2461 - val_accuracy: 0.3571\n",
            "Epoch 92/200\n",
            "14/14 [==============================] - 2s 146ms/step - loss: 0.0920 - accuracy: 0.9732 - val_loss: 3.6435 - val_accuracy: 0.4643\n",
            "Epoch 93/200\n",
            "14/14 [==============================] - 2s 146ms/step - loss: 0.0359 - accuracy: 1.0000 - val_loss: 4.6497 - val_accuracy: 0.3929\n",
            "Epoch 94/200\n",
            "14/14 [==============================] - 2s 147ms/step - loss: 0.0435 - accuracy: 0.9821 - val_loss: 3.7292 - val_accuracy: 0.4286\n",
            "Epoch 95/200\n",
            "14/14 [==============================] - 2s 144ms/step - loss: 0.0112 - accuracy: 1.0000 - val_loss: 5.5038 - val_accuracy: 0.3571\n",
            "Epoch 96/200\n",
            "14/14 [==============================] - 2s 147ms/step - loss: 0.0363 - accuracy: 0.9821 - val_loss: 4.8241 - val_accuracy: 0.3571\n",
            "Epoch 97/200\n",
            "14/14 [==============================] - 2s 147ms/step - loss: 0.0510 - accuracy: 0.9821 - val_loss: 4.7669 - val_accuracy: 0.4643\n",
            "Epoch 98/200\n",
            "14/14 [==============================] - 2s 146ms/step - loss: 0.0597 - accuracy: 0.9911 - val_loss: 4.8073 - val_accuracy: 0.3214\n",
            "Epoch 99/200\n",
            "14/14 [==============================] - 2s 148ms/step - loss: 0.0516 - accuracy: 0.9821 - val_loss: 5.3689 - val_accuracy: 0.3929\n",
            "Epoch 100/200\n",
            "14/14 [==============================] - 2s 146ms/step - loss: 0.0916 - accuracy: 0.9554 - val_loss: 3.9374 - val_accuracy: 0.3214\n",
            "Epoch 101/200\n",
            "14/14 [==============================] - 2s 148ms/step - loss: 0.0121 - accuracy: 1.0000 - val_loss: 4.9629 - val_accuracy: 0.3929\n",
            "Epoch 102/200\n",
            "14/14 [==============================] - 2s 146ms/step - loss: 0.0555 - accuracy: 0.9911 - val_loss: 5.0315 - val_accuracy: 0.3214\n",
            "Epoch 103/200\n",
            "14/14 [==============================] - 2s 145ms/step - loss: 0.0606 - accuracy: 0.9911 - val_loss: 4.3924 - val_accuracy: 0.3214\n",
            "Epoch 104/200\n",
            "14/14 [==============================] - 2s 144ms/step - loss: 0.0475 - accuracy: 0.9911 - val_loss: 4.7899 - val_accuracy: 0.4643\n",
            "Epoch 105/200\n",
            "14/14 [==============================] - 2s 148ms/step - loss: 0.1043 - accuracy: 0.9375 - val_loss: 5.3424 - val_accuracy: 0.3214\n",
            "Epoch 106/200\n",
            "14/14 [==============================] - 2s 146ms/step - loss: 0.1533 - accuracy: 0.9554 - val_loss: 5.2694 - val_accuracy: 0.3929\n",
            "Epoch 107/200\n",
            "14/14 [==============================] - 2s 146ms/step - loss: 0.5808 - accuracy: 0.9107 - val_loss: 5.9301 - val_accuracy: 0.2857\n",
            "Epoch 108/200\n",
            "14/14 [==============================] - 2s 145ms/step - loss: 0.5959 - accuracy: 0.8661 - val_loss: 3.2120 - val_accuracy: 0.5357\n",
            "Epoch 109/200\n",
            "14/14 [==============================] - 2s 145ms/step - loss: 0.3225 - accuracy: 0.9018 - val_loss: 3.2191 - val_accuracy: 0.3571\n",
            "Epoch 110/200\n",
            "14/14 [==============================] - 2s 147ms/step - loss: 0.2032 - accuracy: 0.9196 - val_loss: 2.8983 - val_accuracy: 0.3571\n",
            "Epoch 111/200\n",
            "14/14 [==============================] - 2s 145ms/step - loss: 0.0786 - accuracy: 0.9821 - val_loss: 2.5872 - val_accuracy: 0.3571\n",
            "Epoch 112/200\n",
            "14/14 [==============================] - 2s 146ms/step - loss: 0.0316 - accuracy: 0.9911 - val_loss: 3.3640 - val_accuracy: 0.4286\n",
            "Epoch 113/200\n",
            "14/14 [==============================] - 2s 145ms/step - loss: 0.0141 - accuracy: 1.0000 - val_loss: 3.4287 - val_accuracy: 0.4643\n",
            "Epoch 114/200\n",
            "14/14 [==============================] - 2s 143ms/step - loss: 0.0452 - accuracy: 0.9821 - val_loss: 3.4147 - val_accuracy: 0.3929\n",
            "Epoch 115/200\n",
            "14/14 [==============================] - 2s 145ms/step - loss: 0.0576 - accuracy: 0.9821 - val_loss: 4.4920 - val_accuracy: 0.2857\n",
            "Epoch 116/200\n",
            "14/14 [==============================] - 2s 145ms/step - loss: 0.1063 - accuracy: 0.9732 - val_loss: 5.2488 - val_accuracy: 0.3571\n",
            "Epoch 117/200\n",
            "14/14 [==============================] - 2s 149ms/step - loss: 0.0815 - accuracy: 0.9911 - val_loss: 3.1815 - val_accuracy: 0.5357\n",
            "Epoch 118/200\n",
            "14/14 [==============================] - 2s 148ms/step - loss: 0.0818 - accuracy: 0.9732 - val_loss: 3.5495 - val_accuracy: 0.5000\n",
            "Epoch 119/200\n",
            "14/14 [==============================] - 2s 149ms/step - loss: 0.0226 - accuracy: 1.0000 - val_loss: 4.6520 - val_accuracy: 0.3571\n",
            "Epoch 120/200\n",
            "14/14 [==============================] - 2s 148ms/step - loss: 0.0863 - accuracy: 0.9643 - val_loss: 3.6558 - val_accuracy: 0.4643\n",
            "Epoch 121/200\n",
            "14/14 [==============================] - 2s 148ms/step - loss: 0.2098 - accuracy: 0.9286 - val_loss: 4.9830 - val_accuracy: 0.3214\n",
            "Epoch 122/200\n",
            "14/14 [==============================] - 2s 151ms/step - loss: 0.1055 - accuracy: 0.9554 - val_loss: 5.7673 - val_accuracy: 0.3929\n",
            "Epoch 123/200\n",
            "14/14 [==============================] - 2s 146ms/step - loss: 0.0743 - accuracy: 0.9732 - val_loss: 4.3836 - val_accuracy: 0.3571\n",
            "Epoch 124/200\n",
            "14/14 [==============================] - 2s 146ms/step - loss: 0.0455 - accuracy: 0.9821 - val_loss: 5.3261 - val_accuracy: 0.3571\n",
            "Epoch 125/200\n",
            "14/14 [==============================] - 2s 147ms/step - loss: 0.0214 - accuracy: 1.0000 - val_loss: 4.7470 - val_accuracy: 0.2857\n",
            "Epoch 126/200\n",
            "14/14 [==============================] - 2s 145ms/step - loss: 0.0208 - accuracy: 0.9911 - val_loss: 4.4937 - val_accuracy: 0.3929\n",
            "Epoch 127/200\n",
            "14/14 [==============================] - 2s 145ms/step - loss: 0.0193 - accuracy: 0.9911 - val_loss: 6.4997 - val_accuracy: 0.3571\n",
            "Epoch 128/200\n",
            "14/14 [==============================] - 2s 145ms/step - loss: 0.0286 - accuracy: 0.9821 - val_loss: 6.1271 - val_accuracy: 0.3571\n",
            "Epoch 129/200\n",
            "14/14 [==============================] - 2s 146ms/step - loss: 0.0391 - accuracy: 0.9732 - val_loss: 6.0004 - val_accuracy: 0.3571\n",
            "Epoch 130/200\n",
            "14/14 [==============================] - 2s 148ms/step - loss: 0.0484 - accuracy: 0.9821 - val_loss: 5.2434 - val_accuracy: 0.3929\n",
            "Epoch 131/200\n",
            "14/14 [==============================] - 2s 147ms/step - loss: 0.0070 - accuracy: 1.0000 - val_loss: 6.0630 - val_accuracy: 0.4643\n",
            "Epoch 132/200\n",
            "14/14 [==============================] - 2s 145ms/step - loss: 0.0303 - accuracy: 0.9821 - val_loss: 5.9069 - val_accuracy: 0.4643\n",
            "Epoch 133/200\n",
            "14/14 [==============================] - 2s 147ms/step - loss: 0.0199 - accuracy: 0.9911 - val_loss: 4.2021 - val_accuracy: 0.4643\n",
            "Epoch 134/200\n",
            "14/14 [==============================] - 2s 147ms/step - loss: 0.0170 - accuracy: 0.9911 - val_loss: 5.1783 - val_accuracy: 0.4286\n",
            "Epoch 135/200\n",
            "14/14 [==============================] - 2s 148ms/step - loss: 0.0114 - accuracy: 1.0000 - val_loss: 5.6078 - val_accuracy: 0.3929\n",
            "Epoch 136/200\n",
            "14/14 [==============================] - 2s 146ms/step - loss: 0.0494 - accuracy: 0.9821 - val_loss: 8.2506 - val_accuracy: 0.3214\n",
            "Epoch 137/200\n",
            "14/14 [==============================] - 2s 147ms/step - loss: 0.1944 - accuracy: 0.9554 - val_loss: 7.1544 - val_accuracy: 0.3571\n",
            "Epoch 138/200\n",
            "14/14 [==============================] - 2s 147ms/step - loss: 0.1729 - accuracy: 0.9732 - val_loss: 7.7546 - val_accuracy: 0.3571\n",
            "Epoch 139/200\n",
            "14/14 [==============================] - 2s 147ms/step - loss: 0.3863 - accuracy: 0.8929 - val_loss: 5.9070 - val_accuracy: 0.3214\n",
            "Epoch 140/200\n",
            "14/14 [==============================] - 2s 147ms/step - loss: 0.5163 - accuracy: 0.8750 - val_loss: 4.3139 - val_accuracy: 0.4643\n",
            "Epoch 141/200\n",
            "14/14 [==============================] - 2s 145ms/step - loss: 0.5555 - accuracy: 0.8482 - val_loss: 4.3576 - val_accuracy: 0.3214\n",
            "Epoch 142/200\n",
            "14/14 [==============================] - 2s 148ms/step - loss: 0.3007 - accuracy: 0.9107 - val_loss: 3.7140 - val_accuracy: 0.3214\n",
            "Epoch 143/200\n",
            "14/14 [==============================] - 2s 145ms/step - loss: 0.2034 - accuracy: 0.9286 - val_loss: 4.2380 - val_accuracy: 0.5357\n",
            "Epoch 144/200\n",
            "14/14 [==============================] - 2s 146ms/step - loss: 0.1982 - accuracy: 0.9464 - val_loss: 4.1977 - val_accuracy: 0.3929\n",
            "Epoch 145/200\n",
            "14/14 [==============================] - 2s 149ms/step - loss: 0.0582 - accuracy: 0.9821 - val_loss: 4.6659 - val_accuracy: 0.3929\n",
            "Epoch 146/200\n",
            "14/14 [==============================] - 2s 147ms/step - loss: 0.1476 - accuracy: 0.9554 - val_loss: 5.5992 - val_accuracy: 0.2500\n",
            "Epoch 147/200\n",
            "14/14 [==============================] - 2s 148ms/step - loss: 0.0465 - accuracy: 0.9911 - val_loss: 3.6754 - val_accuracy: 0.3571\n",
            "Epoch 148/200\n",
            "14/14 [==============================] - 2s 146ms/step - loss: 0.0401 - accuracy: 0.9821 - val_loss: 4.6482 - val_accuracy: 0.3571\n",
            "Epoch 149/200\n",
            "14/14 [==============================] - 2s 147ms/step - loss: 0.0683 - accuracy: 0.9732 - val_loss: 4.7933 - val_accuracy: 0.3929\n",
            "Epoch 150/200\n",
            "14/14 [==============================] - 2s 148ms/step - loss: 0.0771 - accuracy: 0.9643 - val_loss: 5.0249 - val_accuracy: 0.2857\n",
            "Epoch 151/200\n",
            "14/14 [==============================] - 2s 147ms/step - loss: 0.0979 - accuracy: 0.9732 - val_loss: 4.5253 - val_accuracy: 0.3571\n",
            "Epoch 152/200\n",
            "14/14 [==============================] - 2s 146ms/step - loss: 0.2315 - accuracy: 0.9375 - val_loss: 5.8906 - val_accuracy: 0.3929\n",
            "Epoch 153/200\n",
            "14/14 [==============================] - 2s 149ms/step - loss: 0.4600 - accuracy: 0.9196 - val_loss: 5.8558 - val_accuracy: 0.4286\n",
            "Epoch 154/200\n",
            "14/14 [==============================] - 2s 146ms/step - loss: 0.2049 - accuracy: 0.9554 - val_loss: 5.3265 - val_accuracy: 0.2500\n",
            "Epoch 155/200\n",
            "14/14 [==============================] - 2s 146ms/step - loss: 0.1863 - accuracy: 0.9286 - val_loss: 4.3692 - val_accuracy: 0.2857\n",
            "Epoch 156/200\n",
            "14/14 [==============================] - 2s 145ms/step - loss: 0.1112 - accuracy: 0.9821 - val_loss: 3.3433 - val_accuracy: 0.4643\n",
            "Epoch 157/200\n",
            "14/14 [==============================] - 2s 148ms/step - loss: 0.0809 - accuracy: 0.9732 - val_loss: 3.2416 - val_accuracy: 0.6071\n",
            "Epoch 158/200\n",
            "14/14 [==============================] - 2s 148ms/step - loss: 0.0551 - accuracy: 0.9911 - val_loss: 4.5643 - val_accuracy: 0.3929\n",
            "Epoch 159/200\n",
            "14/14 [==============================] - 2s 145ms/step - loss: 0.0883 - accuracy: 0.9732 - val_loss: 4.4961 - val_accuracy: 0.2857\n",
            "Epoch 160/200\n",
            "14/14 [==============================] - 2s 150ms/step - loss: 0.0174 - accuracy: 1.0000 - val_loss: 4.5194 - val_accuracy: 0.2857\n",
            "Epoch 161/200\n",
            "14/14 [==============================] - 2s 147ms/step - loss: 0.0161 - accuracy: 1.0000 - val_loss: 4.0818 - val_accuracy: 0.3214\n",
            "Epoch 162/200\n",
            "14/14 [==============================] - 2s 148ms/step - loss: 0.0191 - accuracy: 1.0000 - val_loss: 4.6324 - val_accuracy: 0.4286\n",
            "Epoch 163/200\n",
            "14/14 [==============================] - 2s 146ms/step - loss: 0.0536 - accuracy: 0.9732 - val_loss: 5.2322 - val_accuracy: 0.3929\n",
            "Epoch 164/200\n",
            "14/14 [==============================] - 2s 145ms/step - loss: 0.0193 - accuracy: 1.0000 - val_loss: 7.8489 - val_accuracy: 0.3571\n",
            "Epoch 165/200\n",
            "14/14 [==============================] - 2s 145ms/step - loss: 0.0961 - accuracy: 0.9732 - val_loss: 5.5200 - val_accuracy: 0.4286\n",
            "Epoch 166/200\n",
            "14/14 [==============================] - 2s 147ms/step - loss: 0.1994 - accuracy: 0.9464 - val_loss: 6.3180 - val_accuracy: 0.5000\n",
            "Epoch 167/200\n",
            "14/14 [==============================] - 2s 147ms/step - loss: 0.1037 - accuracy: 0.9554 - val_loss: 4.7692 - val_accuracy: 0.4286\n",
            "Epoch 168/200\n",
            "14/14 [==============================] - 2s 147ms/step - loss: 0.0608 - accuracy: 0.9732 - val_loss: 5.2243 - val_accuracy: 0.3214\n",
            "Epoch 169/200\n",
            "14/14 [==============================] - 2s 148ms/step - loss: 0.0635 - accuracy: 0.9821 - val_loss: 4.6285 - val_accuracy: 0.3571\n",
            "Epoch 170/200\n",
            "14/14 [==============================] - 2s 149ms/step - loss: 0.0995 - accuracy: 0.9732 - val_loss: 4.8831 - val_accuracy: 0.3929\n",
            "Epoch 171/200\n",
            "14/14 [==============================] - 2s 146ms/step - loss: 0.0366 - accuracy: 0.9911 - val_loss: 4.1191 - val_accuracy: 0.3929\n",
            "Epoch 172/200\n",
            "14/14 [==============================] - 2s 145ms/step - loss: 0.0582 - accuracy: 0.9821 - val_loss: 7.0059 - val_accuracy: 0.3571\n",
            "Epoch 173/200\n",
            "14/14 [==============================] - 2s 148ms/step - loss: 0.0380 - accuracy: 0.9911 - val_loss: 4.4416 - val_accuracy: 0.4286\n",
            "Epoch 174/200\n",
            "14/14 [==============================] - 2s 145ms/step - loss: 0.0084 - accuracy: 1.0000 - val_loss: 4.6430 - val_accuracy: 0.5357\n",
            "Epoch 175/200\n",
            "14/14 [==============================] - 2s 143ms/step - loss: 0.0075 - accuracy: 1.0000 - val_loss: 4.8328 - val_accuracy: 0.4643\n",
            "Epoch 176/200\n",
            "14/14 [==============================] - 2s 146ms/step - loss: 0.0161 - accuracy: 0.9911 - val_loss: 5.6952 - val_accuracy: 0.2857\n",
            "Epoch 177/200\n",
            "14/14 [==============================] - 2s 146ms/step - loss: 0.0065 - accuracy: 1.0000 - val_loss: 5.4802 - val_accuracy: 0.4286\n",
            "Epoch 178/200\n",
            "14/14 [==============================] - 2s 146ms/step - loss: 0.0602 - accuracy: 0.9643 - val_loss: 7.1152 - val_accuracy: 0.3214\n",
            "Epoch 179/200\n",
            "14/14 [==============================] - 2s 147ms/step - loss: 0.0550 - accuracy: 0.9821 - val_loss: 5.6876 - val_accuracy: 0.4286\n",
            "Epoch 180/200\n",
            "14/14 [==============================] - 2s 146ms/step - loss: 0.0403 - accuracy: 0.9732 - val_loss: 5.3025 - val_accuracy: 0.3929\n",
            "Epoch 181/200\n",
            "14/14 [==============================] - 2s 147ms/step - loss: 0.0370 - accuracy: 0.9821 - val_loss: 5.6052 - val_accuracy: 0.3929\n",
            "Epoch 182/200\n",
            "14/14 [==============================] - 2s 146ms/step - loss: 0.0288 - accuracy: 0.9911 - val_loss: 6.4258 - val_accuracy: 0.4286\n",
            "Epoch 183/200\n",
            "14/14 [==============================] - 2s 146ms/step - loss: 0.0043 - accuracy: 1.0000 - val_loss: 6.2174 - val_accuracy: 0.5000\n",
            "Epoch 184/200\n",
            "14/14 [==============================] - 2s 144ms/step - loss: 0.0530 - accuracy: 0.9821 - val_loss: 5.7371 - val_accuracy: 0.4286\n",
            "Epoch 185/200\n",
            "14/14 [==============================] - 2s 146ms/step - loss: 0.0338 - accuracy: 0.9821 - val_loss: 6.8774 - val_accuracy: 0.3929\n",
            "Epoch 186/200\n",
            "14/14 [==============================] - 2s 146ms/step - loss: 0.0650 - accuracy: 0.9911 - val_loss: 6.2307 - val_accuracy: 0.3929\n",
            "Epoch 187/200\n",
            "14/14 [==============================] - 2s 148ms/step - loss: 0.1674 - accuracy: 0.9643 - val_loss: 5.6962 - val_accuracy: 0.4643\n",
            "Epoch 188/200\n",
            "14/14 [==============================] - 2s 147ms/step - loss: 0.0249 - accuracy: 0.9911 - val_loss: 4.7002 - val_accuracy: 0.4286\n",
            "Epoch 189/200\n",
            "14/14 [==============================] - 2s 146ms/step - loss: 0.0035 - accuracy: 1.0000 - val_loss: 3.5342 - val_accuracy: 0.5357\n",
            "Epoch 190/200\n",
            "14/14 [==============================] - 2s 146ms/step - loss: 0.0087 - accuracy: 1.0000 - val_loss: 3.4212 - val_accuracy: 0.4286\n",
            "Epoch 191/200\n",
            "14/14 [==============================] - 2s 147ms/step - loss: 0.0263 - accuracy: 0.9911 - val_loss: 4.4398 - val_accuracy: 0.4286\n",
            "Epoch 192/200\n",
            "14/14 [==============================] - 2s 147ms/step - loss: 0.0474 - accuracy: 0.9821 - val_loss: 5.8026 - val_accuracy: 0.3571\n",
            "Epoch 193/200\n",
            "14/14 [==============================] - 2s 147ms/step - loss: 0.0331 - accuracy: 0.9911 - val_loss: 5.1105 - val_accuracy: 0.5714\n",
            "Epoch 194/200\n",
            "14/14 [==============================] - 2s 146ms/step - loss: 0.0273 - accuracy: 0.9911 - val_loss: 5.2607 - val_accuracy: 0.4286\n",
            "Epoch 195/200\n",
            "14/14 [==============================] - 2s 147ms/step - loss: 0.0038 - accuracy: 1.0000 - val_loss: 5.3393 - val_accuracy: 0.4286\n",
            "Epoch 196/200\n",
            "14/14 [==============================] - 2s 148ms/step - loss: 0.0134 - accuracy: 0.9911 - val_loss: 3.5695 - val_accuracy: 0.5714\n",
            "Epoch 197/200\n",
            "14/14 [==============================] - 2s 149ms/step - loss: 0.0911 - accuracy: 0.9643 - val_loss: 6.4246 - val_accuracy: 0.5357\n",
            "Epoch 198/200\n",
            "14/14 [==============================] - 2s 148ms/step - loss: 0.0596 - accuracy: 0.9821 - val_loss: 4.4631 - val_accuracy: 0.4643\n",
            "Epoch 199/200\n",
            "14/14 [==============================] - 2s 147ms/step - loss: 0.0326 - accuracy: 0.9911 - val_loss: 5.6363 - val_accuracy: 0.3929\n",
            "Epoch 200/200\n",
            "14/14 [==============================] - 2s 148ms/step - loss: 0.3611 - accuracy: 0.8750 - val_loss: 6.9295 - val_accuracy: 0.2500\n"
          ]
        }
      ]
    },
    {
      "cell_type": "code",
      "metadata": {
        "id": "UIJSMqHfcBNA",
        "colab": {
          "base_uri": "https://localhost:8080/",
          "height": 579
        },
        "outputId": "b0a08d4b-665d-463e-b593-b631028ef082"
      },
      "source": [
        "import matplotlib.pyplot as plt\n",
        "acc = history.history['accuracy']\n",
        "val_acc = history.history['val_accuracy']\n",
        "loss = history.history['loss']\n",
        "val_loss = history.history['val_loss']\n",
        "\n",
        "epochs = range(len(acc))\n",
        "\n",
        "plt.plot(epochs, acc, 'b', label='Training Accuracy ')\n",
        "plt.plot(epochs, loss, 'r', label='Training Loss ')\n",
        "plt.title('Training')\n",
        "plt.legend(loc=0)\n",
        "plt.figure()\n",
        "plt.show()\n",
        "\n",
        "plt.plot(epochs, val_acc, 'b', label='Validation Accuracy')\n",
        "plt.plot(epochs, val_loss, 'r', label='Validation Loss')\n",
        "plt.title('Validation')\n",
        "plt.legend(loc=0)\n",
        "plt.figure()\n",
        "plt.show()"
      ],
      "execution_count": null,
      "outputs": [
        {
          "output_type": "display_data",
          "data": {
            "image/png": "[encoded data removed]",
            "text/plain": [
              "<Figure size 432x288 with 1 Axes>"
            ]
          },
          "metadata": {
            "needs_background": "light"
          }
        },
        {
          "output_type": "display_data",
          "data": {
            "text/plain": [
              "<Figure size 432x288 with 0 Axes>"
            ]
          },
          "metadata": {}
        },
        {
          "output_type": "display_data",
          "data": {
            "image/png": "[encoded data removed]",
            "text/plain": [
              "<Figure size 432x288 with 1 Axes>"
            ]
          },
          "metadata": {
            "needs_background": "light"
          }
        },
        {
          "output_type": "display_data",
          "data": {
            "text/plain": [
              "<Figure size 432x288 with 0 Axes>"
            ]
          },
          "metadata": {}
        }
      ]
    },
    {
      "cell_type": "code",
      "metadata": {
        "id": "aHlbQ1bIcyl8"
      },
      "source": [
        "import numpy as np\n",
        "from google.colab import files\n",
        "from keras.preprocessing import image\n",
        "\n",
        "uploaded = files.upload()\n",
        "\n",
        "for fn in uploaded.keys():\n",
        "\n",
        "  path = fn\n",
        "  img = image.load_img(path, target_size=(180,180))\n",
        "  imgplot = plt.imshow(img)\n",
        "  x = image.img_to_array(img)\n",
        "  x = np.expand_dims(x, axis=0)\n",
        "\n",
        "  images = np.vstack([x])\n",
        "  classes = model.predict(images, batch_size=7)\n",
        "  print(fn)\n",
        "  if classes[0][0]==1:\n",
        "    print('Candidiasis Oral')\n",
        "  elif classes[0][1]==1:\n",
        "    print('Candidiasis Vital')\n",
        "  elif classes[0][2]==1:\n",
        "    print('Jock Itch')\n",
        "  elif classes[0][3]==1:\n",
        "    print('Ringworm')\n",
        "  elif classes[0][4]==1:\n",
        "    print('Scabies')\n",
        "  elif classes[0][5]==1:\n",
        "    print('Tinea Pedis')\n",
        "  elif classes[0][6]==1:\n",
        "    print('Tinea Versicolor')\n",
        "  else:\n",
        "    print('Unknown')"
      ],
      "execution_count": null,
      "outputs": []
    }
  ]
}